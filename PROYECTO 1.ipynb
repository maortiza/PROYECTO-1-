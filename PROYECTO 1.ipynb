{
 "cells": [
  {
   "cell_type": "markdown",
   "id": "ebb22410",
   "metadata": {},
   "source": [
    "Carga de archivo y librerías"
   ]
  },
  {
   "cell_type": "code",
   "execution_count": 3,
   "id": "a0594bc8",
   "metadata": {},
   "outputs": [],
   "source": [
    "import pandas as pd\n",
    "import numpy as np\n",
    "data = pd.read_csv('incident_event_log.csv', index_col=0)"
   ]
  },
  {
   "cell_type": "markdown",
   "id": "1323ada7",
   "metadata": {},
   "source": [
    "Exploración inicial de datos\n"
   ]
  },
  {
   "cell_type": "code",
   "execution_count": 5,
   "id": "c26d8bab",
   "metadata": {},
   "outputs": [
    {
     "name": "stdout",
     "output_type": "stream",
     "text": [
      "<class 'pandas.core.frame.DataFrame'>\n",
      "Index: 141712 entries, INC0000045 to INC0121064\n",
      "Data columns (total 35 columns):\n",
      " #   Column                   Non-Null Count   Dtype \n",
      "---  ------                   --------------   ----- \n",
      " 0   incident_state           141712 non-null  object\n",
      " 1   active                   141712 non-null  bool  \n",
      " 2   reassignment_count       141712 non-null  int64 \n",
      " 3   reopen_count             141712 non-null  int64 \n",
      " 4   sys_mod_count            141712 non-null  int64 \n",
      " 5   made_sla                 141712 non-null  bool  \n",
      " 6   caller_id                141712 non-null  object\n",
      " 7   opened_by                141712 non-null  object\n",
      " 8   opened_at                141712 non-null  object\n",
      " 9   sys_created_by           141712 non-null  object\n",
      " 10  sys_created_at           141712 non-null  object\n",
      " 11  sys_updated_by           141712 non-null  object\n",
      " 12  sys_updated_at           141712 non-null  object\n",
      " 13  contact_type             141712 non-null  object\n",
      " 14  location                 141712 non-null  object\n",
      " 15  category                 141712 non-null  object\n",
      " 16  subcategory              141712 non-null  object\n",
      " 17  u_symptom                141712 non-null  object\n",
      " 18  cmdb_ci                  141712 non-null  object\n",
      " 19  impact                   141712 non-null  object\n",
      " 20  urgency                  141712 non-null  object\n",
      " 21  priority                 141712 non-null  object\n",
      " 22  assignment_group         141712 non-null  object\n",
      " 23  assigned_to              141712 non-null  object\n",
      " 24  knowledge                141712 non-null  bool  \n",
      " 25  u_priority_confirmation  141712 non-null  bool  \n",
      " 26  notify                   141712 non-null  object\n",
      " 27  problem_id               141712 non-null  object\n",
      " 28  rfc                      141712 non-null  object\n",
      " 29  vendor                   141712 non-null  object\n",
      " 30  caused_by                141712 non-null  object\n",
      " 31  closed_code              141712 non-null  object\n",
      " 32  resolved_by              141712 non-null  object\n",
      " 33  resolved_at              141712 non-null  object\n",
      " 34  closed_at                141712 non-null  object\n",
      "dtypes: bool(4), int64(3), object(28)\n",
      "memory usage: 35.1+ MB\n"
     ]
    },
    {
     "data": {
      "text/plain": [
       "((141712, 35),\n",
       "            incident_state  active  reassignment_count  reopen_count  \\\n",
       " number                                                                \n",
       " INC0000045            New    True                   0             0   \n",
       " INC0000045       Resolved    True                   0             0   \n",
       " INC0000045       Resolved    True                   0             0   \n",
       " INC0000045         Closed   False                   0             0   \n",
       " INC0000047            New    True                   0             0   \n",
       " INC0000047         Active    True                   1             0   \n",
       " INC0000047         Active    True                   1             0   \n",
       " INC0000047         Active    True                   1             0   \n",
       " INC0000047         Active    True                   1             0   \n",
       " INC0000047         Active    True                   1             0   \n",
       " \n",
       "             sys_mod_count  made_sla    caller_id       opened_by  \\\n",
       " number                                                             \n",
       " INC0000045              0      True  Caller 2403    Opened by  8   \n",
       " INC0000045              2      True  Caller 2403    Opened by  8   \n",
       " INC0000045              3      True  Caller 2403    Opened by  8   \n",
       " INC0000045              4      True  Caller 2403    Opened by  8   \n",
       " INC0000047              0      True  Caller 2403  Opened by  397   \n",
       " INC0000047              1      True  Caller 2403  Opened by  397   \n",
       " INC0000047              2      True  Caller 2403  Opened by  397   \n",
       " INC0000047              3      True  Caller 2403  Opened by  397   \n",
       " INC0000047              4      True  Caller 2403  Opened by  397   \n",
       " INC0000047              5      True  Caller 2403  Opened by  397   \n",
       " \n",
       "                   opened_at  sys_created_by  ... u_priority_confirmation  \\\n",
       " number                                       ...                           \n",
       " INC0000045  29/2/2016 01:16    Created by 6  ...                   False   \n",
       " INC0000045  29/2/2016 01:16    Created by 6  ...                   False   \n",
       " INC0000045  29/2/2016 01:16    Created by 6  ...                   False   \n",
       " INC0000045  29/2/2016 01:16    Created by 6  ...                   False   \n",
       " INC0000047  29/2/2016 04:40  Created by 171  ...                   False   \n",
       " INC0000047  29/2/2016 04:40  Created by 171  ...                   False   \n",
       " INC0000047  29/2/2016 04:40  Created by 171  ...                   False   \n",
       " INC0000047  29/2/2016 04:40  Created by 171  ...                   False   \n",
       " INC0000047  29/2/2016 04:40  Created by 171  ...                   False   \n",
       " INC0000047  29/2/2016 04:40  Created by 171  ...                   False   \n",
       " \n",
       "                    notify problem_id rfc vendor caused_by closed_code  \\\n",
       " number                                                                  \n",
       " INC0000045  Do Not Notify          ?   ?      ?         ?      code 5   \n",
       " INC0000045  Do Not Notify          ?   ?      ?         ?      code 5   \n",
       " INC0000045  Do Not Notify          ?   ?      ?         ?      code 5   \n",
       " INC0000045  Do Not Notify          ?   ?      ?         ?      code 5   \n",
       " INC0000047  Do Not Notify          ?   ?      ?         ?      code 5   \n",
       " INC0000047  Do Not Notify          ?   ?      ?         ?      code 5   \n",
       " INC0000047  Do Not Notify          ?   ?      ?         ?      code 5   \n",
       " INC0000047  Do Not Notify          ?   ?      ?         ?      code 5   \n",
       " INC0000047  Do Not Notify          ?   ?      ?         ?      code 5   \n",
       " INC0000047  Do Not Notify          ?   ?      ?         ?      code 5   \n",
       " \n",
       "                 resolved_by      resolved_at       closed_at  \n",
       " number                                                        \n",
       " INC0000045  Resolved by 149  29/2/2016 11:29  5/3/2016 12:00  \n",
       " INC0000045  Resolved by 149  29/2/2016 11:29  5/3/2016 12:00  \n",
       " INC0000045  Resolved by 149  29/2/2016 11:29  5/3/2016 12:00  \n",
       " INC0000045  Resolved by 149  29/2/2016 11:29  5/3/2016 12:00  \n",
       " INC0000047   Resolved by 81   1/3/2016 09:52  6/3/2016 10:00  \n",
       " INC0000047   Resolved by 81   1/3/2016 09:52  6/3/2016 10:00  \n",
       " INC0000047   Resolved by 81   1/3/2016 09:52  6/3/2016 10:00  \n",
       " INC0000047   Resolved by 81   1/3/2016 09:52  6/3/2016 10:00  \n",
       " INC0000047   Resolved by 81   1/3/2016 09:52  6/3/2016 10:00  \n",
       " INC0000047   Resolved by 81   1/3/2016 09:52  6/3/2016 10:00  \n",
       " \n",
       " [10 rows x 35 columns],\n",
       " None)"
      ]
     },
     "execution_count": 5,
     "metadata": {},
     "output_type": "execute_result"
    }
   ],
   "source": [
    "data.shape, data.head(10), data.info()"
   ]
  }
 ],
 "metadata": {
  "kernelspec": {
   "display_name": "Python 3",
   "language": "python",
   "name": "python3"
  },
  "language_info": {
   "codemirror_mode": {
    "name": "ipython",
    "version": 3
   },
   "file_extension": ".py",
   "mimetype": "text/x-python",
   "name": "python",
   "nbconvert_exporter": "python",
   "pygments_lexer": "ipython3",
   "version": "3.12.10"
  }
 },
 "nbformat": 4,
 "nbformat_minor": 5
}
